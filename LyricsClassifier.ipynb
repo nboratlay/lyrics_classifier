{
 "cells": [
  {
   "cell_type": "code",
   "execution_count": 1,
   "id": "e8a6e8e1",
   "metadata": {},
   "outputs": [],
   "source": [
    "import os\n",
    "import requests\n",
    "import re\n",
    "import time\n",
    "from bs4 import BeautifulSoup\n",
    "import unidecode\n",
    "import string\n",
    "import pickle\n",
    "\n",
    "import pandas as pd\n",
    "import matplotlib.pyplot as plt\n",
    "\n",
    "from nltk.corpus import stopwords\n",
    "from nltk import stem\n",
    "import spacy\n",
    "\n",
    "from sklearn.model_selection import train_test_split, cross_val_score, GridSearchCV, validation_curve\n",
    "from sklearn import metrics\n",
    "from sklearn.metrics import plot_confusion_matrix\n",
    "from sklearn.metrics import accuracy_score, precision_score, recall_score, confusion_matrix, f1_score\n",
    "\n",
    "from sklearn.linear_model import LogisticRegression\n",
    "from sklearn.ensemble import RandomForestClassifier\n",
    "from sklearn.naive_bayes import MultinomialNB\n",
    "from sklearn import svm\n",
    "\n",
    "from sklearn.pipeline import make_pipeline\n",
    "from sklearn.pipeline import Pipeline\n",
    "\n",
    "\n",
    "#from sklearn.feature_extraction.text import CountVectorizer, TfidfTransformer\n",
    "from sklearn.feature_extraction.text import TfidfVectorizer\n",
    "\n"
   ]
  },
  {
   "cell_type": "code",
   "execution_count": 2,
   "id": "ae7b99e9",
   "metadata": {},
   "outputs": [],
   "source": [
    "def compile_urls(artist:str):\n",
    "    \"\"\"Function to compile the song urls for a desired artist\"\"\"\n",
    "    artist_page=requests.get(f'https://www.lyrics.com/artist/{artist}').text  \n",
    "    artist_soup = BeautifulSoup(artist_page, 'html.parser')\n",
    "    \n",
    "    links=[]\n",
    "    \n",
    "    for link in artist_soup.find_all(attrs={\"class\":\"tal qx\"}):\n",
    "        \n",
    "        #print(\"Collecting the lyrics. Let's not rush the server.\")\n",
    "        #print(\"Waiting for 2 seconds\")\n",
    "        time.sleep(2)\n",
    " \n",
    "        for link in link.find_all(\"a\"):\n",
    "            link=link.get('href')\n",
    "            full_link_str='https://www.lyrics.com/'+link\n",
    "            \n",
    "            links.append(full_link_str)\n",
    "    return links"
   ]
  },
  {
   "cell_type": "code",
   "execution_count": 3,
   "id": "654e725e",
   "metadata": {},
   "outputs": [],
   "source": [
    "#def collect_lyrics(song_link:str):\n",
    "def compile_lyrics(artist:str):\n",
    "    \n",
    "    urls = compile_urls(artist)\n",
    "    print(len(urls))\n",
    "    \n",
    "    lyrics=[]\n",
    "\n",
    "    for url in urls:\n",
    "        #print(\"Collecting the lyrics. Let's not rush the server.\")\n",
    "        #print(\"Waiting for 2 seconds\")\n",
    "        time.sleep(2)\n",
    "        \n",
    "        lyrics_html=requests.get(url).text\n",
    "        #print(lyrics_html)\n",
    "        lyrics_soup = BeautifulSoup(lyrics_html, 'html.parser')\n",
    "\n",
    "        for section in lyrics_soup.find_all(attrs={\"class\":\"lyric-body\"}):\n",
    "            text=section.text.split()\n",
    "            lyrics.append(text)\n",
    "    #print(len(lyrics))\n",
    "    return lyrics\n"
   ]
  },
  {
   "cell_type": "code",
   "execution_count": 4,
   "id": "c54bdda3",
   "metadata": {},
   "outputs": [],
   "source": [
    "# \"Manual lemmatizer using WordNet. In the following the lemmatizer \"\n",
    "\n",
    "def nltk_lemmatize(word_list):\n",
    "    \"\"\"return lemmatized version of word a list\"\"\"\n",
    "    \n",
    "    lem = stem.WordNetLemmatizer()\n",
    "    \n",
    "    return [lem.lemmatize(word) for word in word_list]"
   ]
  },
  {
   "cell_type": "code",
   "execution_count": 5,
   "id": "ea19b682",
   "metadata": {},
   "outputs": [],
   "source": [
    "def manual_txt_cleanup(lyrics_str):\n",
    "    \"\"\"clean a list of strings manually using regex expressions\"\"\"\n",
    "    \n",
    "    lyrics_str = lyrics_str.lower().strip()\n",
    "    #lyrics_str = lyrics_str.strip()\n",
    "    lyrics_str = re.sub(\"[\\.\\,\\'\\-!?:;\\)\\(]+\", \"\", lyrics_str)\n",
    "    lyrics_str = re.sub(\"\\b\\d+\\b\", \"\", lyrics_str)\n",
    "    lyrics_str = re.sub('\\w*\\d\\w*', '', lyrics_str)\n",
    "    lyrics = [word for word in lyrics_str.split() if word.lower() not in stopwords.words('english')]\n",
    "    lyrics_str = ' '.join(lyrics)\n",
    "    lyrics_str = ' '.join( [w for w in lyrics_str.split() if len(w)>1] )\n",
    "    \n",
    "    return lyrics_str"
   ]
  },
  {
   "cell_type": "code",
   "execution_count": 6,
   "id": "56cbea59",
   "metadata": {},
   "outputs": [],
   "source": [
    "def rmNoneElements(lst):\n",
    "    for l in lst:\n",
    "        if l==None:\n",
    "            lst.remove(l)\n",
    "    return lst"
   ]
  },
  {
   "cell_type": "code",
   "execution_count": null,
   "id": "dbf38a43",
   "metadata": {},
   "outputs": [],
   "source": [
    "# We will use Spacy to handle the text.\n",
    "# i.e. tokenization, lemmatization, removal of stop words etc. \n",
    "\n",
    "# https://spacy.io/models/en#en_core_web_md\n",
    "# English pipeline optimized for CPU.\n",
    "# Components: tok2vec, tagger, parser, senter, ner, attribute_ruler, lemmatizer.\n",
    "spacy_model = spacy.load('en_core_web_md')"
   ]
  },
  {
   "cell_type": "code",
   "execution_count": 14,
   "id": "0d148337",
   "metadata": {},
   "outputs": [],
   "source": [
    "def str_trimming(string): \n",
    "    trimmd_str = []\n",
    "    token_str = spacy_model(string)\n",
    "    for tkn in token_str:\n",
    "        if not tkn.is_stop and not tkn.is_punct and not tkn.like_num:\n",
    "            trimmd_str.append(tkn.lemma_)\n",
    "    return ' '.join(trimmd_str)"
   ]
  },
  {
   "cell_type": "code",
   "execution_count": 8,
   "id": "e351032c",
   "metadata": {},
   "outputs": [],
   "source": [
    "def rm_numbers(string):\n",
    "    'clean words with numbers'\n",
    "    string = re.sub('\\w*\\d\\w*', '', string)\n",
    "    return string"
   ]
  },
  {
   "cell_type": "code",
   "execution_count": 9,
   "id": "0a547810",
   "metadata": {},
   "outputs": [],
   "source": [
    "def print_evaluations(X_test,y_test, model):\n",
    "    \"\"\"Model evaluation metrics\"\"\"\n",
    "    y_pred=model.predict(X_test)\n",
    "\n",
    "    print(f'Accuracy: {round(accuracy_score(y_test, y_pred), 3)}')\n",
    "    print(f'Precision: {round(precision_score(y_test, y_pred), 3)}')\n",
    "    print(f'Recall: {round(recall_score(y_test, y_pred), 3)}')\n",
    "    print(f'F1-score: {round(f1_score(y_test, y_pred), 3)}')\n",
    "    plot_confusion_matrix(model, X_test, y_test,cmap=plt.cm.Blues,display_labels=['Metallica', 'IronMaiden'])\n",
    "    \n",
    "  "
   ]
  },
  {
   "cell_type": "code",
   "execution_count": 10,
   "id": "6a6080cc",
   "metadata": {},
   "outputs": [
    {
     "name": "stdout",
     "output_type": "stream",
     "text": [
      "1588\n",
      "1787\n"
     ]
    }
   ],
   "source": [
    "metallica_lyrics=compile_lyrics('metallica')\n",
    "ironmaiden_lyrics=compile_lyrics('iron-maiden')\n",
    "metallica_lyrics = rmNoneElements(metallica_lyrics)\n",
    "ironmaiden_lyrics = rmNoneElements(ironmaiden_lyrics)"
   ]
  },
  {
   "cell_type": "code",
   "execution_count": 14,
   "id": "441d7313",
   "metadata": {},
   "outputs": [],
   "source": [
    "#lyrics_list = [metallica_lyrics, ironmaiden_lyrics]"
   ]
  },
  {
   "cell_type": "code",
   "execution_count": 11,
   "id": "7c37cf6f",
   "metadata": {},
   "outputs": [],
   "source": [
    "for item in metallica_lyrics:\n",
    "      open(\"metallica_raw_lyrics.txt\", \"a+\").write(str(item)+\"\\n\")\n",
    "for item in ironmaiden_lyrics:\n",
    "    open(\"ironmaiden_raw_lyrics.txt\", \"a+\").write(str(item)+\"\\n\")"
   ]
  },
  {
   "cell_type": "code",
   "execution_count": 15,
   "id": "7fdbfa56",
   "metadata": {},
   "outputs": [],
   "source": [
    "trimmed_metallica=[]\n",
    "for item in metallica_lyrics: \n",
    "    item=str_trimming(str(item))\n",
    "    trimmed_metallica.append(str(item))"
   ]
  },
  {
   "cell_type": "code",
   "execution_count": 16,
   "id": "a1f2bca2",
   "metadata": {},
   "outputs": [],
   "source": [
    "trimmed_ironmaiden=[]\n",
    "for item in ironmaiden_lyrics: \n",
    "    item=str_trimming(str(item))\n",
    "    trimmed_ironmaiden.append(str(item))"
   ]
  },
  {
   "cell_type": "markdown",
   "id": "e21ebdfa",
   "metadata": {},
   "source": [
    "#### Pickling the trimmed lyrics"
   ]
  },
  {
   "cell_type": "code",
   "execution_count": 18,
   "id": "60a70855",
   "metadata": {},
   "outputs": [],
   "source": [
    "#### Pickling the trimmed lyrics\n",
    "with open('trimmed_metallica.pickle', 'wb') as file:\n",
    "    pickle.dump(trimmed_metallica,file)\n",
    "with open('trimmed_ironmaiden.pickle', 'wb') as file:\n",
    "    pickle.dump(trimmed_ironmaiden,file)"
   ]
  },
  {
   "cell_type": "markdown",
   "id": "f777e307",
   "metadata": {},
   "source": [
    "#### Reload pickled files when needed. No need to scrape the lyrics each time."
   ]
  },
  {
   "cell_type": "code",
   "execution_count": 19,
   "id": "0b7a935e",
   "metadata": {},
   "outputs": [],
   "source": [
    "with open('trimmed_metallica.pickle', 'rb') as f:\n",
    "      metallica = pickle.load(f)\n",
    "with open('trimmed_ironmaiden.pickle', 'rb') as f:\n",
    "      ironmaiden = pickle.load(f)"
   ]
  },
  {
   "cell_type": "code",
   "execution_count": 20,
   "id": "a9fcfb4d",
   "metadata": {},
   "outputs": [],
   "source": [
    "df_0=pd.DataFrame({'lyrics':metallica,  'artist':0})\n",
    "df_1=pd.DataFrame({'lyrics':ironmaiden, 'artist':1})\n",
    "df_main=pd.concat([df_0,df_1])"
   ]
  },
  {
   "cell_type": "code",
   "execution_count": 21,
   "id": "17572b70",
   "metadata": {},
   "outputs": [
    {
     "data": {
      "text/plain": [
       "((2530,), (2530,))"
      ]
     },
     "execution_count": 21,
     "metadata": {},
     "output_type": "execute_result"
    }
   ],
   "source": [
    "df_main['lyrics'] = df_main['lyrics'].apply(rm_numbers)\n",
    "#splitting the data\n",
    "X,y=df_main['lyrics'],df_main['artist']\n",
    "X_train, X_test, y_train, y_test = train_test_split(X, y, random_state=84)\n",
    "X_train.shape,y_train.shape"
   ]
  },
  {
   "cell_type": "code",
   "execution_count": 22,
   "id": "a618a039",
   "metadata": {},
   "outputs": [
    {
     "data": {
      "text/plain": [
       "<2530x4065 sparse matrix of type '<class 'numpy.float64'>'\n",
       "\twith 118105 stored elements in Compressed Sparse Row format>"
      ]
     },
     "execution_count": 22,
     "metadata": {},
     "output_type": "execute_result"
    }
   ],
   "source": [
    "TfidVectzr = TfidfVectorizer()\n",
    "vectorized_lyrics=TfidVectzr.fit_transform(X_train)  #creating sparse matrix\n",
    "vectorized_lyrics"
   ]
  },
  {
   "cell_type": "code",
   "execution_count": 23,
   "id": "0fb387d6",
   "metadata": {},
   "outputs": [],
   "source": [
    "pickle.dump(TfidVectzr,open('TfidVectzr.pkl','wb'))"
   ]
  },
  {
   "cell_type": "code",
   "execution_count": 24,
   "id": "612d54a9",
   "metadata": {},
   "outputs": [],
   "source": [
    "X_test_trans=TfidVectzr.transform(X_test).toarray()"
   ]
  },
  {
   "cell_type": "code",
   "execution_count": 25,
   "id": "39ce22c8",
   "metadata": {},
   "outputs": [],
   "source": [
    "# scipy.sparse.csr.csr_matrix (Compressed Sparse Row matrix)\n",
    "# is not practical for printing/viewing.\n",
    "# We can convert it into a dense matrix for practical purposes.\n",
    "# More info:\n",
    "# https://docs.scipy.org/doc/scipy/reference/generated/scipy.sparse.csr_matrix.html\n",
    "tf_vectors=pd.DataFrame(vectorized_lyrics.todense().round(2), columns=TfidVectzr.get_feature_names())"
   ]
  },
  {
   "cell_type": "markdown",
   "id": "fccd1e6e",
   "metadata": {},
   "source": [
    "## Logistic Regression"
   ]
  },
  {
   "cell_type": "code",
   "execution_count": 26,
   "id": "85351811",
   "metadata": {},
   "outputs": [
    {
     "name": "stdout",
     "output_type": "stream",
     "text": [
      "Train score : 0.97\n"
     ]
    }
   ],
   "source": [
    "lreg=LogisticRegression()\n",
    "lreg.fit(tf_vectors,y_train)\n",
    "print(\"Train score :\",round(lreg.score(tf_vectors,y_train),2))"
   ]
  },
  {
   "cell_type": "code",
   "execution_count": 27,
   "id": "20e0ef3f",
   "metadata": {},
   "outputs": [],
   "source": [
    "acc_log=round(lreg.score(X_test_trans,y_test),3)"
   ]
  },
  {
   "cell_type": "code",
   "execution_count": 28,
   "id": "9874c033",
   "metadata": {},
   "outputs": [
    {
     "name": "stdout",
     "output_type": "stream",
     "text": [
      "Cross-validation score : 0.96\n"
     ]
    }
   ],
   "source": [
    "accuracy=cross_val_score(lreg,tf_vectors,y_train)\n",
    "print(\"Cross-validation score :\", round(accuracy.mean(),2))"
   ]
  },
  {
   "cell_type": "code",
   "execution_count": 29,
   "id": "d9082d87",
   "metadata": {},
   "outputs": [
    {
     "name": "stdout",
     "output_type": "stream",
     "text": [
      "[0]\n"
     ]
    }
   ],
   "source": [
    "#testing a song\n",
    "test_song=[\"No more going to the dark side. With your flying saucer eyes. No more falling down a wormhole. That I have to pull you out\"]\n",
    "test=TfidVectzr.transform(test_song)\n",
    "print(lreg.predict(test))"
   ]
  },
  {
   "cell_type": "code",
   "execution_count": 30,
   "id": "3a45c728",
   "metadata": {},
   "outputs": [
    {
     "name": "stdout",
     "output_type": "stream",
     "text": [
      "Accuracy: 0.97\n",
      "Precision: 0.984\n",
      "Recall: 0.96\n",
      "F1-score: 0.972\n"
     ]
    },
    {
     "data": {
      "image/png": "[encoded data removed]",
      "text/plain": [
       "<Figure size 432x288 with 2 Axes>"
      ]
     },
     "metadata": {
      "needs_background": "light"
     },
     "output_type": "display_data"
    }
   ],
   "source": [
    "print_evaluations(X_test_trans, y_test, lreg)"
   ]
  },
  {
   "cell_type": "markdown",
   "id": "c0f68ef3",
   "metadata": {},
   "source": [
    "## Multinominal Naive Bayes"
   ]
  },
  {
   "cell_type": "code",
   "execution_count": 31,
   "id": "7280d3e6",
   "metadata": {},
   "outputs": [
    {
     "name": "stdout",
     "output_type": "stream",
     "text": [
      "Train score : 0.82\n"
     ]
    }
   ],
   "source": [
    "nb = MultinomialNB()\n",
    "nb.fit(tf_vectors,y_train)\n",
    "print(\"Train score :\",round(nb.score(tf_vectors,y_train),2))"
   ]
  },
  {
   "cell_type": "code",
   "execution_count": 32,
   "id": "d03d7c44",
   "metadata": {},
   "outputs": [],
   "source": [
    "acc_nb=round(nb.score(X_test_trans,y_test),3) #saving for later model comparison"
   ]
  },
  {
   "cell_type": "code",
   "execution_count": 33,
   "id": "1b2f8fd6",
   "metadata": {},
   "outputs": [
    {
     "name": "stdout",
     "output_type": "stream",
     "text": [
      "Cross-validation score : 0.81\n"
     ]
    }
   ],
   "source": [
    "accuracy=cross_val_score(nb,tf_vectors,y_train)\n",
    "print(\"Cross-validation score :\", round(accuracy.mean(),2))"
   ]
  },
  {
   "cell_type": "code",
   "execution_count": 34,
   "id": "1c346ebd",
   "metadata": {
    "scrolled": true
   },
   "outputs": [
    {
     "name": "stdout",
     "output_type": "stream",
     "text": [
      "Accuracy: 0.834\n",
      "Precision: 0.764\n",
      "Recall: 0.996\n",
      "F1-score: 0.865\n"
     ]
    },
    {
     "data": {
      "image/png": "[encoded data removed]",
      "text/plain": [
       "<Figure size 432x288 with 2 Axes>"
      ]
     },
     "metadata": {
      "needs_background": "light"
     },
     "output_type": "display_data"
    }
   ],
   "source": [
    "print_evaluations(X_test_trans, y_test, nb)"
   ]
  },
  {
   "cell_type": "markdown",
   "id": "b6392b86",
   "metadata": {},
   "source": [
    "## Random Forest"
   ]
  },
  {
   "cell_type": "code",
   "execution_count": 35,
   "id": "8a0e350e",
   "metadata": {},
   "outputs": [],
   "source": [
    "RndmFrst = RandomForestClassifier()"
   ]
  },
  {
   "cell_type": "code",
   "execution_count": 36,
   "id": "176ddccf",
   "metadata": {
    "scrolled": true
   },
   "outputs": [
    {
     "name": "stdout",
     "output_type": "stream",
     "text": [
      "Fitting 5 folds for each of 300 candidates, totalling 1500 fits\n"
     ]
    },
    {
     "data": {
      "text/plain": [
       "({'max_depth': 58, 'n_estimators': 29}, 0.97)"
      ]
     },
     "execution_count": 36,
     "metadata": {},
     "output_type": "execute_result"
    }
   ],
   "source": [
    "#n_estimators = number of trees in the foreset\n",
    "#max_features = max number of features considered for splitting a node\n",
    "#max_depth = max number of levels in each decision tree\n",
    "#min_samples_split = min number of data points placed in a node before the node is split\n",
    "#min_samples_leaf = min number of data points allowed in a leaf node\n",
    "#bootstrap = method for sampling data points (with or without replacement)\n",
    "\n",
    "#searching for the best parameters\n",
    "'''\n",
    "forest_params = {'bootstrap': [True],\n",
    "                 'max_depth': [20, 100],\n",
    "                 'max_features': [2, 3],\n",
    "                 'min_samples_leaf': [3, 4, 5],\n",
    "                 'min_samples_split': [8, 10, 12],\n",
    "                 'n_estimators': [100, 200, 300, 1000]\n",
    "}\n",
    "'''\n",
    "\n",
    "forest_params = {'max_depth': range(50, 80),\n",
    "                'n_estimators': range(20, 30)}\n",
    "\n",
    "forest_grid = GridSearchCV(RndmFrst, forest_params, cv=5, verbose=True)\n",
    "\n",
    "forest_grid.fit(tf_vectors,y_train)\n",
    "\n",
    "forest_grid.best_params_, round(forest_grid.best_score_,2) "
   ]
  },
  {
   "cell_type": "code",
   "execution_count": 37,
   "id": "740707dd",
   "metadata": {},
   "outputs": [],
   "source": [
    "forest = RandomForestClassifier(n_estimators=26, max_depth=69)"
   ]
  },
  {
   "cell_type": "code",
   "execution_count": 38,
   "id": "dbbc0d31",
   "metadata": {},
   "outputs": [
    {
     "name": "stdout",
     "output_type": "stream",
     "text": [
      "Train score : 0.98\n"
     ]
    }
   ],
   "source": [
    "forest.fit(tf_vectors,y_train)\n",
    "print(\"Train score :\",round(forest.score(tf_vectors,y_train),2))"
   ]
  },
  {
   "cell_type": "code",
   "execution_count": 39,
   "id": "78e585b5",
   "metadata": {},
   "outputs": [],
   "source": [
    "pickle.dump(forest, open('rfc.pkl', 'wb'))"
   ]
  },
  {
   "cell_type": "code",
   "execution_count": 40,
   "id": "a395c641",
   "metadata": {},
   "outputs": [],
   "source": [
    "acc_rf=round(forest.score(X_test_trans,y_test),2)"
   ]
  },
  {
   "cell_type": "code",
   "execution_count": 41,
   "id": "f87c1797",
   "metadata": {},
   "outputs": [
    {
     "name": "stdout",
     "output_type": "stream",
     "text": [
      "Cross-validation score : 0.97\n"
     ]
    }
   ],
   "source": [
    "accuracy=cross_val_score(forest,tf_vectors,y_train)\n",
    "print(\"Cross-validation score :\", round(accuracy.mean(),2))"
   ]
  },
  {
   "cell_type": "code",
   "execution_count": 42,
   "id": "93b385d9",
   "metadata": {
    "scrolled": true
   },
   "outputs": [
    {
     "name": "stdout",
     "output_type": "stream",
     "text": [
      "Accuracy: 0.976\n",
      "Precision: 0.984\n",
      "Recall: 0.971\n",
      "F1-score: 0.978\n"
     ]
    },
    {
     "data": {
      "image/png": "[encoded data removed]",
      "text/plain": [
       "<Figure size 432x288 with 2 Axes>"
      ]
     },
     "metadata": {
      "needs_background": "light"
     },
     "output_type": "display_data"
    }
   ],
   "source": [
    "print_evaluations(X_test_trans, y_test, forest)"
   ]
  },
  {
   "cell_type": "markdown",
   "id": "a656e901",
   "metadata": {},
   "source": [
    "## Support Vector Machines"
   ]
  },
  {
   "cell_type": "code",
   "execution_count": 43,
   "id": "55083768",
   "metadata": {},
   "outputs": [
    {
     "name": "stdout",
     "output_type": "stream",
     "text": [
      "Train score : 0.98\n"
     ]
    }
   ],
   "source": [
    "svm=svm.SVC(kernel='linear')\n",
    "svm.fit(tf_vectors,y_train)\n",
    "print(\"Train score :\",round(svm.score(tf_vectors,y_train),2))"
   ]
  },
  {
   "cell_type": "code",
   "execution_count": 44,
   "id": "ef3cb4f7",
   "metadata": {},
   "outputs": [],
   "source": [
    "acc_svm=round(svm.score(X_test_trans,y_test),2) #saving for later model comparison"
   ]
  },
  {
   "cell_type": "code",
   "execution_count": 45,
   "id": "1ff769e1",
   "metadata": {},
   "outputs": [
    {
     "name": "stdout",
     "output_type": "stream",
     "text": [
      "Cross-validation score : 0.97\n"
     ]
    }
   ],
   "source": [
    "accuracy=cross_val_score(svm,tf_vectors,y_train)\n",
    "print(\"Cross-validation score :\", round(accuracy.mean(),2))"
   ]
  },
  {
   "cell_type": "code",
   "execution_count": 46,
   "id": "669f700e",
   "metadata": {},
   "outputs": [
    {
     "name": "stdout",
     "output_type": "stream",
     "text": [
      "Accuracy: 0.981\n",
      "Precision: 0.995\n",
      "Recall: 0.969\n",
      "F1-score: 0.982\n"
     ]
    },
    {
     "data": {
      "image/png": "[encoded data removed]",
      "text/plain": [
       "<Figure size 432x288 with 2 Axes>"
      ]
     },
     "metadata": {
      "needs_background": "light"
     },
     "output_type": "display_data"
    }
   ],
   "source": [
    "print_evaluations(X_test_trans, y_test, svm)"
   ]
  },
  {
   "cell_type": "markdown",
   "id": "74ea9fc3",
   "metadata": {},
   "source": [
    "## Accuricies by models"
   ]
  },
  {
   "cell_type": "code",
   "execution_count": 47,
   "id": "d0c63ef5",
   "metadata": {},
   "outputs": [
    {
     "data": {
      "text/html": [
       "<div>\n",
       "<style scoped>\n",
       "    .dataframe tbody tr th:only-of-type {\n",
       "        vertical-align: middle;\n",
       "    }\n",
       "\n",
       "    .dataframe tbody tr th {\n",
       "        vertical-align: top;\n",
       "    }\n",
       "\n",
       "    .dataframe thead th {\n",
       "        text-align: right;\n",
       "    }\n",
       "</style>\n",
       "<table border=\"1\" class=\"dataframe\">\n",
       "  <thead>\n",
       "    <tr style=\"text-align: right;\">\n",
       "      <th></th>\n",
       "      <th>Model</th>\n",
       "      <th>Score</th>\n",
       "    </tr>\n",
       "  </thead>\n",
       "  <tbody>\n",
       "    <tr>\n",
       "      <th>1</th>\n",
       "      <td>NB</td>\n",
       "      <td>0.834</td>\n",
       "    </tr>\n",
       "    <tr>\n",
       "      <th>0</th>\n",
       "      <td>LR</td>\n",
       "      <td>0.970</td>\n",
       "    </tr>\n",
       "    <tr>\n",
       "      <th>2</th>\n",
       "      <td>SVM</td>\n",
       "      <td>0.980</td>\n",
       "    </tr>\n",
       "    <tr>\n",
       "      <th>3</th>\n",
       "      <td>RF</td>\n",
       "      <td>0.980</td>\n",
       "    </tr>\n",
       "  </tbody>\n",
       "</table>\n",
       "</div>"
      ],
      "text/plain": [
       "  Model  Score\n",
       "1    NB  0.834\n",
       "0    LR  0.970\n",
       "2   SVM  0.980\n",
       "3    RF  0.980"
      ]
     },
     "execution_count": 47,
     "metadata": {},
     "output_type": "execute_result"
    }
   ],
   "source": [
    "models = pd.DataFrame({\n",
    "    'Model': ['LR','NB', 'SVM', 'RF'],\n",
    "    'Score': [acc_log, acc_nb, acc_svm, acc_rf]\n",
    "})\n",
    "models.sort_values(by='Score', ascending=True)"
   ]
  },
  {
   "cell_type": "code",
   "execution_count": 48,
   "id": "945bfcd9",
   "metadata": {},
   "outputs": [
    {
     "data": {
      "text/plain": [
       "<sklearn.metrics._plot.roc_curve.RocCurveDisplay at 0x7ff1e11e3710>"
      ]
     },
     "execution_count": 48,
     "metadata": {},
     "output_type": "execute_result"
    },
    {
     "data": {
      "image/png": "[encoded data removed]",
      "text/plain": [
       "<Figure size 720x360 with 1 Axes>"
      ]
     },
     "metadata": {
      "needs_background": "light"
     },
     "output_type": "display_data"
    }
   ],
   "source": [
    "\n",
    "fig, axes = plt.subplots(1,1, figsize=(10,5))\n",
    "metrics.plot_roc_curve(lreg, X_test_trans, y_test, ax=axes)\n",
    "metrics.plot_roc_curve(nb, X_test_trans, y_test, ax=axes)\n",
    "metrics.plot_roc_curve(svm, X_test_trans, y_test,ax=axes)\n",
    "metrics.plot_roc_curve(forest, X_test_trans, y_test, ax=axes)"
   ]
  },
  {
   "cell_type": "code",
   "execution_count": null,
   "id": "1f5bc688",
   "metadata": {},
   "outputs": [],
   "source": []
  }
 ],
 "metadata": {
  "kernelspec": {
   "display_name": "Python 3",
   "language": "python",
   "name": "python3"
  },
  "language_info": {
   "codemirror_mode": {
    "name": "ipython",
    "version": 3
   },
   "file_extension": ".py",
   "mimetype": "text/x-python",
   "name": "python",
   "nbconvert_exporter": "python",
   "pygments_lexer": "ipython3",
   "version": "3.7.10"
  }
 },
 "nbformat": 4,
 "nbformat_minor": 5
}
